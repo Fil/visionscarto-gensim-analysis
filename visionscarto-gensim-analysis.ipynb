{
 "cells": [
  {
   "cell_type": "code",
   "execution_count": 1,
   "metadata": {
    "collapsed": false
   },
   "outputs": [
    {
     "name": "stdout",
     "output_type": "stream",
     "text": [
      "330 docs, 87 authors\n"
     ]
    }
   ],
   "source": [
    "import os, re\n",
    "\n",
    "# Folder containing all papers.\n",
    "data_dir = 'visionscarto-backup-textes/'  # Set this path to the data on your machine.\n",
    "\n",
    "# Get all document texts and their corresponding IDs.\n",
    "docs = []\n",
    "doc_ids = []\n",
    "author2doc = dict()\n",
    "\n",
    "i=0\n",
    "\n",
    "# List of filenames + authors\n",
    "for filen in os.listdir(data_dir):\n",
    "    idx = re.search('\\d+', filen)\n",
    "    if idx:\n",
    "        id = i\n",
    "        i += 1\n",
    "        doc_ids.append(id)\n",
    "        idx = int(idx.group(0))\n",
    "        with open(data_dir + filen, errors='ignore', encoding='utf-8') as fid:\n",
    "            txt = fid.read()\n",
    "            docs.append(txt)\n",
    "            authors = re.search('\\nAUTEUR:\\s+\\n((?:- (?:[^\\n]*)\\n)+)', txt)\n",
    "            if authors:\n",
    "                authors = re.findall('\\n- ([^\\n]*)', authors.group())\n",
    "                for author in authors:\n",
    "                    if not author2doc.get(author):\n",
    "                        author2doc[author] = [id]\n",
    "                    else:\n",
    "                        author2doc[author].append(id)\n",
    "\n",
    "print (len(docs), 'docs,', len(author2doc), 'authors')"
   ]
  },
  {
   "cell_type": "code",
   "execution_count": 2,
   "metadata": {
    "collapsed": false
   },
   "outputs": [],
   "source": [
    "import spacy\n",
    "nlp = spacy.load('en')"
   ]
  },
  {
   "cell_type": "code",
   "execution_count": 3,
   "metadata": {
    "collapsed": false
   },
   "outputs": [
    {
     "name": "stdout",
     "output_type": "stream",
     "text": [
      "CPU times: user 36.1 s, sys: 2.63 s, total: 38.7 s\n",
      "Wall time: 42.8 s\n"
     ]
    }
   ],
   "source": [
    "%%time\n",
    "processed_docs = []    \n",
    "for doc in nlp.pipe(docs, n_threads=4, batch_size=100):\n",
    "    # Process document using Spacy NLP pipeline.\n",
    "    \n",
    "    ents = doc.ents  # Named entities.\n",
    "\n",
    "    # Keep only words (no numbers, no punctuation).\n",
    "    # Lemmatize tokens, remove punctuation and remove stopwords.\n",
    "    doc = [token.lemma_ for token in doc if token.is_alpha and not token.is_stop]\n",
    "\n",
    "    # Remove common words from a stopword list.\n",
    "    #doc = [token for token in doc if token not in STOPWORDS]\n",
    "\n",
    "    # Add named entities, but only if they are a compound of more than word.\n",
    "    doc.extend([str(entity) for entity in ents if len(entity) > 1])\n",
    "    \n",
    "    processed_docs.append(doc)\n",
    "    \n",
    "docs = processed_docs\n",
    "del processed_docs"
   ]
  },
  {
   "cell_type": "code",
   "execution_count": 4,
   "metadata": {
    "collapsed": false
   },
   "outputs": [
    {
     "name": "stderr",
     "output_type": "stream",
     "text": [
      "/Users/fil/miniconda3/lib/python3.5/site-packages/gensim-0.13.4.1-py3.5-macosx-10.6-x86_64.egg/gensim/models/phrases.py:248: UserWarning: For a faster implementation, use the gensim.models.phrases.Phraser class\n",
      "  warnings.warn(\"For a faster implementation, use the gensim.models.phrases.Phraser class\")\n"
     ]
    }
   ],
   "source": [
    "# Compute bigrams.\n",
    "from gensim.models import Phrases\n",
    "# Add bigrams and trigrams to docs (only ones that appear 20 times or more).\n",
    "bigram = Phrases(docs, min_count=20)\n",
    "for idx in range(len(docs)):\n",
    "    for token in bigram[docs[idx]]:\n",
    "        if '_' in token:\n",
    "            # Token is a bigram, add to document.\n",
    "            docs[idx].append(token)"
   ]
  },
  {
   "cell_type": "code",
   "execution_count": 5,
   "metadata": {
    "collapsed": false
   },
   "outputs": [],
   "source": [
    "# Create a dictionary representation of the documents, and filter out frequent and rare words.\n",
    "\n",
    "from gensim.corpora import Dictionary\n",
    "dictionary = Dictionary(docs)\n",
    "\n",
    "# Remove rare and common tokens.\n",
    "# Filter out words that occur too frequently or too rarely.\n",
    "max_freq = 0.1\n",
    "min_wordcount = 20\n",
    "dictionary.filter_extremes(no_below=min_wordcount, no_above=max_freq)\n",
    "\n",
    "_ = dictionary[0]  # This sort of \"initializes\" dictionary.id2token."
   ]
  },
  {
   "cell_type": "code",
   "execution_count": 6,
   "metadata": {
    "collapsed": true
   },
   "outputs": [],
   "source": [
    "# Vectorize data.\n",
    "\n",
    "# Bag-of-words representation of the documents.\n",
    "corpus = [dictionary.doc2bow(doc) for doc in docs]"
   ]
  },
  {
   "cell_type": "code",
   "execution_count": 7,
   "metadata": {
    "collapsed": false
   },
   "outputs": [
    {
     "name": "stdout",
     "output_type": "stream",
     "text": [
      "Number of authors: 87\n",
      "Number of unique tokens: 545\n",
      "Number of documents: 330\n"
     ]
    }
   ],
   "source": [
    "print('Number of authors: %d' % len(author2doc))\n",
    "print('Number of unique tokens: %d' % len(dictionary))\n",
    "print('Number of documents: %d' % len(corpus))"
   ]
  },
  {
   "cell_type": "code",
   "execution_count": 8,
   "metadata": {
    "collapsed": false
   },
   "outputs": [
    {
     "name": "stdout",
     "output_type": "stream",
     "text": [
      "CPU times: user 102 ms, sys: 7.06 ms, total: 109 ms\n",
      "Wall time: 127 ms\n"
     ]
    }
   ],
   "source": [
    "num_topics = 5\n",
    "from gensim.models import AuthorTopicModel\n",
    "%time model = AuthorTopicModel(corpus=corpus, num_topics=num_topics, id2word=dictionary.id2token, \\\n",
    "                author2doc=author2doc, chunksize=2000, passes=1, eval_every=0, \\\n",
    "                iterations=1, random_state=1)"
   ]
  },
  {
   "cell_type": "code",
   "execution_count": 9,
   "metadata": {
    "collapsed": false
   },
   "outputs": [
    {
     "name": "stdout",
     "output_type": "stream",
     "text": [
      "CPU times: user 1min 7s, sys: 895 ms, total: 1min 8s\n",
      "Wall time: 1min 13s\n"
     ]
    }
   ],
   "source": [
    "%%time\n",
    "model_list = []\n",
    "for i in range(5):\n",
    "    model = AuthorTopicModel(corpus=corpus, num_topics=num_topics, id2word=dictionary.id2token, \\\n",
    "                    author2doc=author2doc, chunksize=2000, passes=200, gamma_threshold=1e-10, \\\n",
    "                    eval_every=0, iterations=1, random_state=i)\n",
    "    top_topics = model.top_topics(corpus)\n",
    "    tc = sum([t[1] for t in top_topics])\n",
    "    model_list.append((model, tc))"
   ]
  },
  {
   "cell_type": "code",
   "execution_count": 10,
   "metadata": {
    "collapsed": false
   },
   "outputs": [
    {
     "name": "stdout",
     "output_type": "stream",
     "text": [
      "Topic coherence: -1.100e+03\n"
     ]
    }
   ],
   "source": [
    "model, tc = max(model_list, key=lambda x: x[1])\n",
    "print('Topic coherence: %.3e' %tc)"
   ]
  },
  {
   "cell_type": "code",
   "execution_count": 11,
   "metadata": {
    "collapsed": false
   },
   "outputs": [],
   "source": [
    "# Save model.\n",
    "model.save('/tmp/visionscarto.atmodel')"
   ]
  },
  {
   "cell_type": "code",
   "execution_count": 12,
   "metadata": {
    "collapsed": true
   },
   "outputs": [],
   "source": [
    "# Load model.\n",
    "from gensim.models import AuthorTopicModel\n",
    "model = AuthorTopicModel.load('/tmp/visionscarto.atmodel')"
   ]
  },
  {
   "cell_type": "code",
   "execution_count": 13,
   "metadata": {
    "collapsed": false
   },
   "outputs": [
    {
     "data": {
      "text/plain": [
       "[('soviétique', 0.0093372902025256246),\n",
       " ('maritime', 0.0080782878343003389),\n",
       " ('film', 0.0078367748881924028),\n",
       " ('asie', 0.0070239092613826534),\n",
       " ('internet', 0.0069849015019235617),\n",
       " ('méditerranée', 0.0069346218497508315),\n",
       " ('code', 0.0061949415742276245),\n",
       " ('atlas', 0.0060618637359574146),\n",
       " ('réseau', 0.0060449879285346623),\n",
       " ('del', 0.005627781126895777)]"
      ]
     },
     "execution_count": 13,
     "metadata": {},
     "output_type": "execute_result"
    }
   ],
   "source": [
    "model.show_topic(0)"
   ]
  },
  {
   "cell_type": "code",
   "execution_count": 14,
   "metadata": {
    "collapsed": false
   },
   "outputs": [
    {
     "name": "stdout",
     "output_type": "stream",
     "text": [
      ":: soviétique maritime film asie internet méditerranée code atlas réseau del \n",
      ":: terres agricoles armes militaires loi communautés militaire conflit processus membres \n",
      ":: e del mur réfugiés la_police turquie cristina homme suisse cristina_del \n",
      ":: société îles dimension quartiers capitale la_société géographe relation paysage distance \n",
      ":: code port camp york new_york mon suis world je_suis retour \n"
     ]
    }
   ],
   "source": [
    "for topic in model.show_topics(num_topics=num_topics):\n",
    "    words = ''\n",
    "    for word, prob in model.show_topic(topic[0]):\n",
    "        words += word + ' '\n",
    "    print(':: ' + words)"
   ]
  },
  {
   "cell_type": "code",
   "execution_count": 15,
   "metadata": {
    "collapsed": true
   },
   "outputs": [],
   "source": [
    "from pprint import pprint\n",
    "\n",
    "def show_author(name):\n",
    "    print('\\n%s' % name)\n",
    "    print('Docs:', model.author2doc[name])\n",
    "    print('Topics:')\n",
    "    pprint([(topic_labels[topic[0]], topic[1]) for topic in model[name]])"
   ]
  },
  {
   "cell_type": "code",
   "execution_count": 16,
   "metadata": {
    "collapsed": false
   },
   "outputs": [
    {
     "name": "stdout",
     "output_type": "stream",
     "text": [
      "\n",
      "Philippe Rivière\n",
      "Docs: [15, 48, 64, 67, 69, 70, 81, 89, 95, 98, 99, 103, 104, 105, 125, 140, 154, 156, 172, 173, 189, 244, 256, 260, 261, 265, 266, 267, 276, 280, 281, 284]\n",
      "Topics:\n"
     ]
    },
    {
     "ename": "NameError",
     "evalue": "name 'topic_labels' is not defined",
     "output_type": "error",
     "traceback": [
      "\u001b[0;31m---------------------------------------------------------------------------\u001b[0m",
      "\u001b[0;31mNameError\u001b[0m                                 Traceback (most recent call last)",
      "\u001b[0;32m<ipython-input-16-3489fb27efe7>\u001b[0m in \u001b[0;36m<module>\u001b[0;34m()\u001b[0m\n\u001b[0;32m----> 1\u001b[0;31m \u001b[0mshow_author\u001b[0m\u001b[0;34m(\u001b[0m\u001b[0;34m\"Philippe Rivière\"\u001b[0m\u001b[0;34m)\u001b[0m\u001b[0;34m\u001b[0m\u001b[0m\n\u001b[0m",
      "\u001b[0;32m<ipython-input-15-ce90a23bfa58>\u001b[0m in \u001b[0;36mshow_author\u001b[0;34m(name)\u001b[0m\n\u001b[1;32m      5\u001b[0m     \u001b[0mprint\u001b[0m\u001b[0;34m(\u001b[0m\u001b[0;34m'Docs:'\u001b[0m\u001b[0;34m,\u001b[0m \u001b[0mmodel\u001b[0m\u001b[0;34m.\u001b[0m\u001b[0mauthor2doc\u001b[0m\u001b[0;34m[\u001b[0m\u001b[0mname\u001b[0m\u001b[0;34m]\u001b[0m\u001b[0;34m)\u001b[0m\u001b[0;34m\u001b[0m\u001b[0m\n\u001b[1;32m      6\u001b[0m     \u001b[0mprint\u001b[0m\u001b[0;34m(\u001b[0m\u001b[0;34m'Topics:'\u001b[0m\u001b[0;34m)\u001b[0m\u001b[0;34m\u001b[0m\u001b[0m\n\u001b[0;32m----> 7\u001b[0;31m     \u001b[0mpprint\u001b[0m\u001b[0;34m(\u001b[0m\u001b[0;34m[\u001b[0m\u001b[0;34m(\u001b[0m\u001b[0mtopic_labels\u001b[0m\u001b[0;34m[\u001b[0m\u001b[0mtopic\u001b[0m\u001b[0;34m[\u001b[0m\u001b[0;36m0\u001b[0m\u001b[0;34m]\u001b[0m\u001b[0;34m]\u001b[0m\u001b[0;34m,\u001b[0m \u001b[0mtopic\u001b[0m\u001b[0;34m[\u001b[0m\u001b[0;36m1\u001b[0m\u001b[0;34m]\u001b[0m\u001b[0;34m)\u001b[0m \u001b[0;32mfor\u001b[0m \u001b[0mtopic\u001b[0m \u001b[0;32min\u001b[0m \u001b[0mmodel\u001b[0m\u001b[0;34m[\u001b[0m\u001b[0mname\u001b[0m\u001b[0;34m]\u001b[0m\u001b[0;34m]\u001b[0m\u001b[0;34m)\u001b[0m\u001b[0;34m\u001b[0m\u001b[0m\n\u001b[0m",
      "\u001b[0;32m<ipython-input-15-ce90a23bfa58>\u001b[0m in \u001b[0;36m<listcomp>\u001b[0;34m(.0)\u001b[0m\n\u001b[1;32m      5\u001b[0m     \u001b[0mprint\u001b[0m\u001b[0;34m(\u001b[0m\u001b[0;34m'Docs:'\u001b[0m\u001b[0;34m,\u001b[0m \u001b[0mmodel\u001b[0m\u001b[0;34m.\u001b[0m\u001b[0mauthor2doc\u001b[0m\u001b[0;34m[\u001b[0m\u001b[0mname\u001b[0m\u001b[0;34m]\u001b[0m\u001b[0;34m)\u001b[0m\u001b[0;34m\u001b[0m\u001b[0m\n\u001b[1;32m      6\u001b[0m     \u001b[0mprint\u001b[0m\u001b[0;34m(\u001b[0m\u001b[0;34m'Topics:'\u001b[0m\u001b[0;34m)\u001b[0m\u001b[0;34m\u001b[0m\u001b[0m\n\u001b[0;32m----> 7\u001b[0;31m     \u001b[0mpprint\u001b[0m\u001b[0;34m(\u001b[0m\u001b[0;34m[\u001b[0m\u001b[0;34m(\u001b[0m\u001b[0mtopic_labels\u001b[0m\u001b[0;34m[\u001b[0m\u001b[0mtopic\u001b[0m\u001b[0;34m[\u001b[0m\u001b[0;36m0\u001b[0m\u001b[0;34m]\u001b[0m\u001b[0;34m]\u001b[0m\u001b[0;34m,\u001b[0m \u001b[0mtopic\u001b[0m\u001b[0;34m[\u001b[0m\u001b[0;36m1\u001b[0m\u001b[0;34m]\u001b[0m\u001b[0;34m)\u001b[0m \u001b[0;32mfor\u001b[0m \u001b[0mtopic\u001b[0m \u001b[0;32min\u001b[0m \u001b[0mmodel\u001b[0m\u001b[0;34m[\u001b[0m\u001b[0mname\u001b[0m\u001b[0;34m]\u001b[0m\u001b[0;34m]\u001b[0m\u001b[0;34m)\u001b[0m\u001b[0;34m\u001b[0m\u001b[0m\n\u001b[0m",
      "\u001b[0;31mNameError\u001b[0m: name 'topic_labels' is not defined"
     ]
    }
   ],
   "source": [
    "show_author(\"Philippe Rivière\")"
   ]
  },
  {
   "cell_type": "code",
   "execution_count": 17,
   "metadata": {
    "collapsed": true
   },
   "outputs": [],
   "source": [
    "from gensim.models import atmodel\n",
    "doc2author = atmodel.construct_doc2author(model.corpus, model.author2doc)"
   ]
  },
  {
   "cell_type": "code",
   "execution_count": 18,
   "metadata": {
    "collapsed": false
   },
   "outputs": [
    {
     "ename": "ZeroDivisionError",
     "evalue": "float division by zero",
     "output_type": "error",
     "traceback": [
      "\u001b[0;31m---------------------------------------------------------------------------\u001b[0m",
      "\u001b[0;31mZeroDivisionError\u001b[0m                         Traceback (most recent call last)",
      "\u001b[0;32m<ipython-input-18-581340a898fe>\u001b[0m in \u001b[0;36m<module>\u001b[0;34m()\u001b[0m\n\u001b[1;32m      4\u001b[0m \u001b[0;34m\u001b[0m\u001b[0m\n\u001b[1;32m      5\u001b[0m \u001b[0;31m# Compute bound and divide by number of words.\u001b[0m\u001b[0;34m\u001b[0m\u001b[0;34m\u001b[0m\u001b[0m\n\u001b[0;32m----> 6\u001b[0;31m \u001b[0mperwordbound\u001b[0m \u001b[0;34m=\u001b[0m \u001b[0mmodel\u001b[0m\u001b[0;34m.\u001b[0m\u001b[0mbound\u001b[0m\u001b[0;34m(\u001b[0m\u001b[0mmodel\u001b[0m\u001b[0;34m.\u001b[0m\u001b[0mcorpus\u001b[0m\u001b[0;34m,\u001b[0m \u001b[0mauthor2doc\u001b[0m\u001b[0;34m=\u001b[0m\u001b[0mmodel\u001b[0m\u001b[0;34m.\u001b[0m\u001b[0mauthor2doc\u001b[0m\u001b[0;34m,\u001b[0m                            \u001b[0mdoc2author\u001b[0m\u001b[0;34m=\u001b[0m\u001b[0mmodel\u001b[0m\u001b[0;34m.\u001b[0m\u001b[0mdoc2author\u001b[0m\u001b[0;34m)\u001b[0m \u001b[0;34m/\u001b[0m \u001b[0mcorpus_words\u001b[0m\u001b[0;34m\u001b[0m\u001b[0m\n\u001b[0m\u001b[1;32m      7\u001b[0m \u001b[0mprint\u001b[0m\u001b[0;34m(\u001b[0m\u001b[0mperwordbound\u001b[0m\u001b[0;34m)\u001b[0m\u001b[0;34m\u001b[0m\u001b[0m\n",
      "\u001b[0;32m/Users/fil/miniconda3/lib/python3.5/site-packages/gensim-0.13.4.1-py3.5-macosx-10.6-x86_64.egg/gensim/models/atmodel.py\u001b[0m in \u001b[0;36mbound\u001b[0;34m(self, chunk, chunk_doc_idx, subsample_ratio, author2doc, doc2author)\u001b[0m\n\u001b[1;32m    839\u001b[0m             \u001b[0;31m# is the same computation as in normalizing phi.\u001b[0m\u001b[0;34m\u001b[0m\u001b[0;34m\u001b[0m\u001b[0m\n\u001b[1;32m    840\u001b[0m             \u001b[0mphinorm\u001b[0m \u001b[0;34m=\u001b[0m \u001b[0mself\u001b[0m\u001b[0;34m.\u001b[0m\u001b[0mcompute_phinorm\u001b[0m\u001b[0;34m(\u001b[0m\u001b[0mids\u001b[0m\u001b[0;34m,\u001b[0m \u001b[0mauthors_d\u001b[0m\u001b[0;34m,\u001b[0m \u001b[0mexpElogtheta\u001b[0m\u001b[0;34m[\u001b[0m\u001b[0mauthors_d\u001b[0m\u001b[0;34m,\u001b[0m \u001b[0;34m:\u001b[0m\u001b[0;34m]\u001b[0m\u001b[0;34m,\u001b[0m \u001b[0mexpElogbeta\u001b[0m\u001b[0;34m[\u001b[0m\u001b[0;34m:\u001b[0m\u001b[0;34m,\u001b[0m \u001b[0mids\u001b[0m\u001b[0;34m]\u001b[0m\u001b[0;34m)\u001b[0m\u001b[0;34m\u001b[0m\u001b[0m\n\u001b[0;32m--> 841\u001b[0;31m             \u001b[0mword_score\u001b[0m \u001b[0;34m+=\u001b[0m \u001b[0mnp\u001b[0m\u001b[0;34m.\u001b[0m\u001b[0mlog\u001b[0m\u001b[0;34m(\u001b[0m\u001b[0;36m1.0\u001b[0m \u001b[0;34m/\u001b[0m \u001b[0mlen\u001b[0m\u001b[0;34m(\u001b[0m\u001b[0mauthors_d\u001b[0m\u001b[0;34m)\u001b[0m\u001b[0;34m)\u001b[0m \u001b[0;34m+\u001b[0m \u001b[0mcts\u001b[0m\u001b[0;34m.\u001b[0m\u001b[0mdot\u001b[0m\u001b[0;34m(\u001b[0m\u001b[0mnp\u001b[0m\u001b[0;34m.\u001b[0m\u001b[0mlog\u001b[0m\u001b[0;34m(\u001b[0m\u001b[0mphinorm\u001b[0m\u001b[0;34m)\u001b[0m\u001b[0;34m)\u001b[0m\u001b[0;34m\u001b[0m\u001b[0m\n\u001b[0m\u001b[1;32m    842\u001b[0m \u001b[0;34m\u001b[0m\u001b[0m\n\u001b[1;32m    843\u001b[0m         \u001b[0;31m# Compensate likelihood for when `chunk` above is only a sample of the whole corpus. This ensures\u001b[0m\u001b[0;34m\u001b[0m\u001b[0;34m\u001b[0m\u001b[0m\n",
      "\u001b[0;31mZeroDivisionError\u001b[0m: float division by zero"
     ]
    }
   ],
   "source": [
    "# Compute the per-word bound.\n",
    "# Number of words in corpus.\n",
    "corpus_words = sum(cnt for document in model.corpus for _, cnt in document)\n",
    "\n",
    "# Compute bound and divide by number of words.\n",
    "perwordbound = model.bound(model.corpus, author2doc=model.author2doc, \\\n",
    "                           doc2author=model.doc2author) / corpus_words\n",
    "print(perwordbound)"
   ]
  },
  {
   "cell_type": "code",
   "execution_count": 19,
   "metadata": {
    "collapsed": false
   },
   "outputs": [
    {
     "name": "stdout",
     "output_type": "stream",
     "text": [
      "CPU times: user 211 ms, sys: 2.33 ms, total: 214 ms\n",
      "Wall time: 216 ms\n"
     ]
    }
   ],
   "source": [
    "%time top_topics = model.top_topics(model.corpus)"
   ]
  },
  {
   "cell_type": "code",
   "execution_count": 28,
   "metadata": {
    "collapsed": false
   },
   "outputs": [
    {
     "name": "stdout",
     "output_type": "stream",
     "text": [
      "CPU times: user 343 ms, sys: 22.3 ms, total: 365 ms\n",
      "Wall time: 347 ms\n"
     ]
    }
   ],
   "source": [
    "%%time\n",
    "from sklearn.manifold import TSNE\n",
    "tsne = TSNE(n_components=2, random_state=0)\n",
    "smallest_author = 0  # Ignore authors with documents less than this.\n",
    "authors = [model.author2id[a] for a in model.author2id.keys() if len(model.author2doc[a]) >= smallest_author]\n",
    "_ = tsne.fit_transform(model.state.gamma[authors, :])  # Result stored in tsne.embedding_"
   ]
  },
  {
   "cell_type": "code",
   "execution_count": 29,
   "metadata": {
    "collapsed": false
   },
   "outputs": [
    {
     "data": {
      "text/html": [
       "\n",
       "    <div class=\"bk-root\">\n",
       "        <a href=\"http://bokeh.pydata.org\" target=\"_blank\" class=\"bk-logo bk-logo-small bk-logo-notebook\"></a>\n",
       "        <span id=\"a4899f77-b2f8-421a-84bf-86aff18e263c\">Loading BokehJS ...</span>\n",
       "    </div>"
      ]
     },
     "metadata": {},
     "output_type": "display_data"
    },
    {
     "data": {
      "application/javascript": [
       "\n",
       "(function(global) {\n",
       "  function now() {\n",
       "    return new Date();\n",
       "  }\n",
       "\n",
       "  var force = true;\n",
       "\n",
       "  if (typeof (window._bokeh_onload_callbacks) === \"undefined\" || force === true) {\n",
       "    window._bokeh_onload_callbacks = [];\n",
       "    window._bokeh_is_loading = undefined;\n",
       "  }\n",
       "\n",
       "\n",
       "  \n",
       "  if (typeof (window._bokeh_timeout) === \"undefined\" || force === true) {\n",
       "    window._bokeh_timeout = Date.now() + 5000;\n",
       "    window._bokeh_failed_load = false;\n",
       "  }\n",
       "\n",
       "  var NB_LOAD_WARNING = {'data': {'text/html':\n",
       "     \"<div style='background-color: #fdd'>\\n\"+\n",
       "     \"<p>\\n\"+\n",
       "     \"BokehJS does not appear to have successfully loaded. If loading BokehJS from CDN, this \\n\"+\n",
       "     \"may be due to a slow or bad network connection. Possible fixes:\\n\"+\n",
       "     \"</p>\\n\"+\n",
       "     \"<ul>\\n\"+\n",
       "     \"<li>re-rerun `output_notebook()` to attempt to load from CDN again, or</li>\\n\"+\n",
       "     \"<li>use INLINE resources instead, as so:</li>\\n\"+\n",
       "     \"</ul>\\n\"+\n",
       "     \"<code>\\n\"+\n",
       "     \"from bokeh.resources import INLINE\\n\"+\n",
       "     \"output_notebook(resources=INLINE)\\n\"+\n",
       "     \"</code>\\n\"+\n",
       "     \"</div>\"}};\n",
       "\n",
       "  function display_loaded() {\n",
       "    if (window.Bokeh !== undefined) {\n",
       "      document.getElementById(\"a4899f77-b2f8-421a-84bf-86aff18e263c\").textContent = \"BokehJS successfully loaded.\";\n",
       "    } else if (Date.now() < window._bokeh_timeout) {\n",
       "      setTimeout(display_loaded, 100)\n",
       "    }\n",
       "  }\n",
       "\n",
       "  function run_callbacks() {\n",
       "    window._bokeh_onload_callbacks.forEach(function(callback) { callback() });\n",
       "    delete window._bokeh_onload_callbacks\n",
       "    console.info(\"Bokeh: all callbacks have finished\");\n",
       "  }\n",
       "\n",
       "  function load_libs(js_urls, callback) {\n",
       "    window._bokeh_onload_callbacks.push(callback);\n",
       "    if (window._bokeh_is_loading > 0) {\n",
       "      console.log(\"Bokeh: BokehJS is being loaded, scheduling callback at\", now());\n",
       "      return null;\n",
       "    }\n",
       "    if (js_urls == null || js_urls.length === 0) {\n",
       "      run_callbacks();\n",
       "      return null;\n",
       "    }\n",
       "    console.log(\"Bokeh: BokehJS not loaded, scheduling load and callback at\", now());\n",
       "    window._bokeh_is_loading = js_urls.length;\n",
       "    for (var i = 0; i < js_urls.length; i++) {\n",
       "      var url = js_urls[i];\n",
       "      var s = document.createElement('script');\n",
       "      s.src = url;\n",
       "      s.async = false;\n",
       "      s.onreadystatechange = s.onload = function() {\n",
       "        window._bokeh_is_loading--;\n",
       "        if (window._bokeh_is_loading === 0) {\n",
       "          console.log(\"Bokeh: all BokehJS libraries loaded\");\n",
       "          run_callbacks()\n",
       "        }\n",
       "      };\n",
       "      s.onerror = function() {\n",
       "        console.warn(\"failed to load library \" + url);\n",
       "      };\n",
       "      console.log(\"Bokeh: injecting script tag for BokehJS library: \", url);\n",
       "      document.getElementsByTagName(\"head\")[0].appendChild(s);\n",
       "    }\n",
       "  };var element = document.getElementById(\"a4899f77-b2f8-421a-84bf-86aff18e263c\");\n",
       "  if (element == null) {\n",
       "    console.log(\"Bokeh: ERROR: autoload.js configured with elementid 'a4899f77-b2f8-421a-84bf-86aff18e263c' but no matching script tag was found. \")\n",
       "    return false;\n",
       "  }\n",
       "\n",
       "  var js_urls = [\"https://cdn.pydata.org/bokeh/release/bokeh-0.12.4.min.js\", \"https://cdn.pydata.org/bokeh/release/bokeh-widgets-0.12.4.min.js\"];\n",
       "\n",
       "  var inline_js = [\n",
       "    function(Bokeh) {\n",
       "      Bokeh.set_log_level(\"info\");\n",
       "    },\n",
       "    \n",
       "    function(Bokeh) {\n",
       "      \n",
       "      document.getElementById(\"a4899f77-b2f8-421a-84bf-86aff18e263c\").textContent = \"BokehJS is loading...\";\n",
       "    },\n",
       "    function(Bokeh) {\n",
       "      console.log(\"Bokeh: injecting CSS: https://cdn.pydata.org/bokeh/release/bokeh-0.12.4.min.css\");\n",
       "      Bokeh.embed.inject_css(\"https://cdn.pydata.org/bokeh/release/bokeh-0.12.4.min.css\");\n",
       "      console.log(\"Bokeh: injecting CSS: https://cdn.pydata.org/bokeh/release/bokeh-widgets-0.12.4.min.css\");\n",
       "      Bokeh.embed.inject_css(\"https://cdn.pydata.org/bokeh/release/bokeh-widgets-0.12.4.min.css\");\n",
       "    }\n",
       "  ];\n",
       "\n",
       "  function run_inline_js() {\n",
       "    \n",
       "    if ((window.Bokeh !== undefined) || (force === true)) {\n",
       "      for (var i = 0; i < inline_js.length; i++) {\n",
       "        inline_js[i](window.Bokeh);\n",
       "      }if (force === true) {\n",
       "        display_loaded();\n",
       "      }} else if (Date.now() < window._bokeh_timeout) {\n",
       "      setTimeout(run_inline_js, 100);\n",
       "    } else if (!window._bokeh_failed_load) {\n",
       "      console.log(\"Bokeh: BokehJS failed to load within specified timeout.\");\n",
       "      window._bokeh_failed_load = true;\n",
       "    } else if (force !== true) {\n",
       "      var cell = $(document.getElementById(\"a4899f77-b2f8-421a-84bf-86aff18e263c\")).parents('.cell').data().cell;\n",
       "      cell.output_area.append_execute_result(NB_LOAD_WARNING)\n",
       "    }\n",
       "\n",
       "  }\n",
       "\n",
       "  if (window._bokeh_is_loading === 0) {\n",
       "    console.log(\"Bokeh: BokehJS loaded, going straight to plotting\");\n",
       "    run_inline_js();\n",
       "  } else {\n",
       "    load_libs(js_urls, function() {\n",
       "      console.log(\"Bokeh: BokehJS plotting callback run at\", now());\n",
       "      run_inline_js();\n",
       "    });\n",
       "  }\n",
       "}(this));"
      ]
     },
     "metadata": {},
     "output_type": "display_data"
    }
   ],
   "source": [
    "# Tell Bokeh to display plots inside the notebook.\n",
    "from bokeh.io import output_notebook\n",
    "output_notebook()"
   ]
  },
  {
   "cell_type": "code",
   "execution_count": 30,
   "metadata": {
    "collapsed": false
   },
   "outputs": [
    {
     "data": {
      "text/html": [
       "\n",
       "\n",
       "    <div class=\"bk-root\">\n",
       "        <div class=\"bk-plotdiv\" id=\"ba3632e3-2408-4c80-9d1d-30cd9cd1e4ee\"></div>\n",
       "    </div>\n",
       "<script type=\"text/javascript\">\n",
       "  \n",
       "  (function(global) {\n",
       "    function now() {\n",
       "      return new Date();\n",
       "    }\n",
       "  \n",
       "    var force = false;\n",
       "  \n",
       "    if (typeof (window._bokeh_onload_callbacks) === \"undefined\" || force === true) {\n",
       "      window._bokeh_onload_callbacks = [];\n",
       "      window._bokeh_is_loading = undefined;\n",
       "    }\n",
       "  \n",
       "  \n",
       "    \n",
       "    if (typeof (window._bokeh_timeout) === \"undefined\" || force === true) {\n",
       "      window._bokeh_timeout = Date.now() + 0;\n",
       "      window._bokeh_failed_load = false;\n",
       "    }\n",
       "  \n",
       "    var NB_LOAD_WARNING = {'data': {'text/html':\n",
       "       \"<div style='background-color: #fdd'>\\n\"+\n",
       "       \"<p>\\n\"+\n",
       "       \"BokehJS does not appear to have successfully loaded. If loading BokehJS from CDN, this \\n\"+\n",
       "       \"may be due to a slow or bad network connection. Possible fixes:\\n\"+\n",
       "       \"</p>\\n\"+\n",
       "       \"<ul>\\n\"+\n",
       "       \"<li>re-rerun `output_notebook()` to attempt to load from CDN again, or</li>\\n\"+\n",
       "       \"<li>use INLINE resources instead, as so:</li>\\n\"+\n",
       "       \"</ul>\\n\"+\n",
       "       \"<code>\\n\"+\n",
       "       \"from bokeh.resources import INLINE\\n\"+\n",
       "       \"output_notebook(resources=INLINE)\\n\"+\n",
       "       \"</code>\\n\"+\n",
       "       \"</div>\"}};\n",
       "  \n",
       "    function display_loaded() {\n",
       "      if (window.Bokeh !== undefined) {\n",
       "        document.getElementById(\"ba3632e3-2408-4c80-9d1d-30cd9cd1e4ee\").textContent = \"BokehJS successfully loaded.\";\n",
       "      } else if (Date.now() < window._bokeh_timeout) {\n",
       "        setTimeout(display_loaded, 100)\n",
       "      }\n",
       "    }\n",
       "  \n",
       "    function run_callbacks() {\n",
       "      window._bokeh_onload_callbacks.forEach(function(callback) { callback() });\n",
       "      delete window._bokeh_onload_callbacks\n",
       "      console.info(\"Bokeh: all callbacks have finished\");\n",
       "    }\n",
       "  \n",
       "    function load_libs(js_urls, callback) {\n",
       "      window._bokeh_onload_callbacks.push(callback);\n",
       "      if (window._bokeh_is_loading > 0) {\n",
       "        console.log(\"Bokeh: BokehJS is being loaded, scheduling callback at\", now());\n",
       "        return null;\n",
       "      }\n",
       "      if (js_urls == null || js_urls.length === 0) {\n",
       "        run_callbacks();\n",
       "        return null;\n",
       "      }\n",
       "      console.log(\"Bokeh: BokehJS not loaded, scheduling load and callback at\", now());\n",
       "      window._bokeh_is_loading = js_urls.length;\n",
       "      for (var i = 0; i < js_urls.length; i++) {\n",
       "        var url = js_urls[i];\n",
       "        var s = document.createElement('script');\n",
       "        s.src = url;\n",
       "        s.async = false;\n",
       "        s.onreadystatechange = s.onload = function() {\n",
       "          window._bokeh_is_loading--;\n",
       "          if (window._bokeh_is_loading === 0) {\n",
       "            console.log(\"Bokeh: all BokehJS libraries loaded\");\n",
       "            run_callbacks()\n",
       "          }\n",
       "        };\n",
       "        s.onerror = function() {\n",
       "          console.warn(\"failed to load library \" + url);\n",
       "        };\n",
       "        console.log(\"Bokeh: injecting script tag for BokehJS library: \", url);\n",
       "        document.getElementsByTagName(\"head\")[0].appendChild(s);\n",
       "      }\n",
       "    };var element = document.getElementById(\"ba3632e3-2408-4c80-9d1d-30cd9cd1e4ee\");\n",
       "    if (element == null) {\n",
       "      console.log(\"Bokeh: ERROR: autoload.js configured with elementid 'ba3632e3-2408-4c80-9d1d-30cd9cd1e4ee' but no matching script tag was found. \")\n",
       "      return false;\n",
       "    }\n",
       "  \n",
       "    var js_urls = [];\n",
       "  \n",
       "    var inline_js = [\n",
       "      function(Bokeh) {\n",
       "        (function() {\n",
       "          var fn = function() {\n",
       "            var docs_json = {\"fae95b4e-d1c1-4a5f-b304-200aab2589f0\":{\"roots\":{\"references\":[{\"attributes\":{\"callback\":null,\"plot\":{\"id\":\"e0bf807f-9fa1-46da-9df6-47eb38821095\",\"subtype\":\"Figure\",\"type\":\"Plot\"},\"tooltips\":[[\"author\",\"@author_names\"],[\"size\",\"@author_sizes\"]]},\"id\":\"107cef64-ce0a-40fb-ab09-1be8645145f7\",\"type\":\"HoverTool\"},{\"attributes\":{\"plot\":{\"id\":\"e0bf807f-9fa1-46da-9df6-47eb38821095\",\"subtype\":\"Figure\",\"type\":\"Plot\"}},\"id\":\"f9d24609-4eb6-4d60-bf40-440b1358b1ba\",\"type\":\"CrosshairTool\"},{\"attributes\":{},\"id\":\"b3ac01d4-46ed-4ba4-bde6-9851920a4112\",\"type\":\"BasicTickFormatter\"},{\"attributes\":{\"fill_alpha\":{\"value\":0.5},\"fill_color\":{\"value\":\"lightgrey\"},\"level\":\"overlay\",\"line_alpha\":{\"value\":1.0},\"line_color\":{\"value\":\"black\"},\"line_dash\":[4,4],\"line_width\":{\"value\":2},\"plot\":null,\"xs_units\":\"screen\",\"ys_units\":\"screen\"},\"id\":\"c6502273-b00b-4a07-9538-42b5788c2586\",\"type\":\"PolyAnnotation\"},{\"attributes\":{\"callback\":null,\"column_names\":[\"radii\",\"y\",\"author_names\",\"x\",\"author_sizes\"],\"data\":{\"author_names\":[\"Alice Corbet\",\"Marie-Alix Comerre\",\"Dan McCarey\",\"Christina Varvia\",\"Luis Alejandro Avila G\\u00f3mez\",\"Bruno Marques\",\"Bruno Bergot\",\"Philippe Arnaud\",\"Elisabeth Vallet\",\"Dominique Kerouedan\",\"Aude Vidal\",\"Tony Fortin\",\"Richard Casey Sadler\",\"Romain Philippon\",\"Laure Vermeersch\",\"Dominique Vidal\",\"Philippe Rivi\\u00e8re\",\"Oskar Rekacewicz\",\"Muriel Monnard\",\"Achille Mbembe\",\"Patrick Meier\",\"Maximilian Reinitz\",\"Patrick Naef\",\"Levi Westerveld\",\"Richard Lefran\\u00e7ois\",\"Sara Prestianni\",\"St\\u00e9phane Rosi\\u00e8re\",\"\\u00c9lise Olmedo\",\"Arthur Charpentier\",\"Sophie Hochh\\u00e4usl\",\"Romain Cruse\",\"Ieva Rucevska\",\"Sonia Shah\",\"Fiona Mcleod\",\"Ariane Bourbaki\",\"Mathieu Petithomme\",\"Pierre Morel\",\"Miyase Christensen\",\"Chlo\\u00e9 Yvroux\",\"C\\u00e9lia Mascr\\u00e9\",\"Marc-Andr\\u00e9 Laferri\\u00e8re\",\"Nicolas Escach\",\"Lorenzo Pezzani\",\"Eudes Girard\",\"Sam Sturgis\",\"Winifred Nicholson\",\"Aron Rossman-Kiss\",\"Fr\\u00e9d\\u00e9rique Longuet-Marx\",\"Agn\\u00e8s Stienne\",\"Elizabeth Rajasingh\",\"Bruno Dujardin\",\"Manon Boisseau, L\\u00e9opold Marchand, Thomas Brault, Claire Kjerulf, Aela Guet, Agathe Pr\\u00e9bet, Ama\\u00eblle Kelfoun, Elsa Masson, \\u00c9lise Cocault, Lisa Paimpar\\u00e9\",\"Sandra Rendgen\",\"Jean-Marie Miossec\",\"Alexandre Laumonier\",\"Cristina Del Biaggio\",\"Joshua Tauberer\",\"Alexandre Chollier\",\"Armand Hough\",\"Fran\\u00e7ois Arnal\",\"Alexander Panin\",\"Philippe Leymarie\",\"\\u00c9lise Gay\",\"Eyal Weizman\",\"Mycle Schneider\",\"Philippe Mangeot\",\"Anne-Laure Amilhat Szary\",\"Marion Lecoquierre\",\"Sarah Mekdjian\",\"Philippe Rekacewicz\",\"B\\u00e9atrice Collignon\",\"Nina Wormbs\\u2028\",\"Stefania Summermatter\",\"madmeg\",\"Peggy Pierrot\",\"Nicky Hager\",\"Alberto Campi\",\"Federico Ferretti\",\"Anika E Nilsson\",\"C\\u00e9cile Kovacshazy\",\"Coralie Griell\",\"Nikolaus Gansterer\",\"Ian Johnson\",\"Julie Hazemann\",\"Maxisole Feni\",\"Jean Radvanyi\",\"Manana Kurtubadze\"],\"author_sizes\":[1,1,3,1,3,1,1,2,1,1,4,1,2,3,1,1,32,4,1,1,1,1,1,1,1,2,1,1,1,2,6,1,3,2,1,1,1,1,1,1,1,1,1,1,2,1,2,1,16,2,1,1,1,1,1,14,2,1,1,1,2,2,1,1,1,1,2,2,2,183,1,1,1,1,1,1,7,4,1,2,1,1,1,1,1,1,1],\"radii\":[3.0,3.0,5.196152422706632,3.0,5.196152422706632,3.0,3.0,4.242640687119286,3.0,3.0,6.0,3.0,4.242640687119286,5.196152422706632,3.0,3.0,16.970562748477143,6.0,3.0,3.0,3.0,3.0,3.0,3.0,3.0,4.242640687119286,3.0,3.0,3.0,4.242640687119286,7.348469228349534,3.0,5.196152422706632,4.242640687119286,3.0,3.0,3.0,3.0,3.0,3.0,3.0,3.0,3.0,3.0,4.242640687119286,3.0,4.242640687119286,3.0,12.0,4.242640687119286,3.0,3.0,3.0,3.0,3.0,11.224972160321824,4.242640687119286,3.0,3.0,3.0,4.242640687119286,4.242640687119286,3.0,3.0,3.0,3.0,4.242640687119286,4.242640687119286,4.242640687119286,40.58324777540605,3.0,3.0,3.0,3.0,3.0,3.0,7.937253933193772,6.0,3.0,4.242640687119286,3.0,3.0,3.0,3.0,3.0,3.0,3.0],\"x\":{\"__ndarray__\":\"EnQX4UqjT0Ck1/Nf8plIQIk/6/GUxDhA4phlmrKQWsBEuoPIcwk0wBsJ/fIngVnAwgVu+UZeNkAszW9f7I9TwEbeqRtViFpAjlgDCSzkIUBxm2sraTZUwMVISw0SZDLAtdDWjP7bIsCYiQwVOUBVwFCJ+nhjsRBAvJgyuRVbKsBcqstr3n95QAGyU5DLfU/AtWXUti5LYMCjqjMUN7Phv9hkkjtY+1xAriVEd37LT0A5WaROjp9VQD9ttyM7hSVAcgdzYO+AQcC6r43sIkxAQHAr10H4DUhAkTuMMocJT8Czdd7BgxtVwEgSobV2GE7AQfrIkZ5CQUBj4w1aCk9CQPKspQqww1rAB21Qz4+RPEDjPqqa3t9DwBxJlwS+XFrApM/q6Dt/8D/hevZ9oqNsQAMusL61LFNAUHquFdxKGcDdwZpuK8JDQJznMWHaa0zAuMc2wPPFWECLV59KTOFSQOjvoV+8NiDAmCqk3H9tQsCmIzkbkpxZQHnVZrHfrU7ASqCfo7EVR8AJVLbJ/xtGQCORcyz3ZQFAhMNsuyO8JMCJEqzlduJFwKNEdXa7RkZAZW5+9yzRUEBX7/ckW8VVQIkE4X+dMvU/eEK2U3NuUcBGYAopuv8vwLp20qD0eFDAMH3HZ2M3OMAUYUEa86NaQMSW+3M7UlBASGN1q21+NsCrlaYobCkuwBPmCu6r4n7AQzQ+l3peUkD+89Vo8kdWQPbPmb1040bACuZuco7mQkBYOIgs3zMnQJRJ//7EanfARCqa0QxXNkCbFtLmSL05wLewtrNWtC1A+eFTNYXnQ8BalTQZfg0TQBJxVCtSgFTAJylh+tPXPsBxmHuDXvw1QHlj00si+1BA1RTV+L1yLkCdnUPT7b5KwAOHVce8A0lAjQHtfoQaQECKoLf8kElPQIQPmRwg7ExA\",\"dtype\":\"float64\",\"shape\":[87]},\"y\":{\"__ndarray__\":\"NuQe1BbJKsApPc0q4KJUQBKldEHyHURAL1Hr668BN8CR0xhmMoAEQOml26QtlU3As6CShUb1CkAO7gnuqxo9QBruxcJe10NAfZ5ndbvfOEBTIRMutcBUwBv2miFpizDAIzBO/4J+S8CRiNRTTlZSQLOVtjiyJFnAVOuL7FtQMUDBY54y/CFmQPLp18UD0UjAHc3y8asm8j8FAXOiM1JbwJ1DrtdNJihAKloCIdWsUcAuez248UxQQMZTvWj2N1NA5VqqStfbMUCJvT8OTwRbwOy+rgrJH0DAGBLD7z8zUEAk0ldgN10+wCy83R5olj9AyyNmGUz5W0AD1hYiSTROQNDkJQvL3EVA+PwJSD5ON0B0dAQh1OFbwPc72E41CCxARV1FtYXULMBsOU8N+N1HQGP6P3sL7T7AzXNuuSv1QEB2nrtqM6AkwAszE6KBoFnA7Fnz2BX1QcAmpFfkFo5qwAlv8ohZt1LAwYF5N73tV0CEwfPgeNNQwAE3Zqa1fTLAYJKCQKMAQcBl7VenAu1BQJvjyYGLkiFAm6JqsNz6S0BV2eoEzJlQQPo1sPczHyRAZKTAyO+RQEAIo7c41CEzQE3VCsnjrVlAICXuxY5ASEDzgtURaWdrQP5q73f5bSxAUGoOSHmlQECAg1TNs/UYwFtmaUdfXfk/OGrXtM+LVsDyb8/KDdBUQORixCc1aF7ASwphqRbLScCS1tcba9EawNIaM2Acf0dAZfVgylvzVMBiO1YpTaZKwNyrDfa9KzbAFZW8SBUTYUD7eFv6UeFEwGSuRfREdFHAYTxk/YlUIMAn4NBamslAwCmggwNPThBAZLnLxc4kUMA2RMivUHg1wAW78hrYjFRAvLrrfHE2TEBg+WuPwehTwJSSFnipoEvAlMXjDDztSMAU5QOKEulWwNXua3hqskpA\",\"dtype\":\"float64\",\"shape\":[87]}}},\"id\":\"53d8e2e3-9f34-4b01-8834-3719bf49e650\",\"type\":\"ColumnDataSource\"},{\"attributes\":{\"bottom_units\":\"screen\",\"fill_alpha\":{\"value\":0.5},\"fill_color\":{\"value\":\"lightgrey\"},\"left_units\":\"screen\",\"level\":\"overlay\",\"line_alpha\":{\"value\":1.0},\"line_color\":{\"value\":\"black\"},\"line_dash\":[4,4],\"line_width\":{\"value\":2},\"plot\":null,\"render_mode\":\"css\",\"right_units\":\"screen\",\"top_units\":\"screen\"},\"id\":\"d5c9e3d4-d781-4513-b324-adcd120525ee\",\"type\":\"BoxAnnotation\"},{\"attributes\":{\"dimension\":1,\"plot\":{\"id\":\"e0bf807f-9fa1-46da-9df6-47eb38821095\",\"subtype\":\"Figure\",\"type\":\"Plot\"},\"ticker\":{\"id\":\"b7a1084d-e80f-4fbc-8b88-232395786724\",\"type\":\"BasicTicker\"}},\"id\":\"d5abedd1-a1ce-444a-9848-e8d34275e905\",\"type\":\"Grid\"},{\"attributes\":{\"plot\":{\"id\":\"e0bf807f-9fa1-46da-9df6-47eb38821095\",\"subtype\":\"Figure\",\"type\":\"Plot\"}},\"id\":\"92f4d548-2279-438e-a9e5-53799819f7e2\",\"type\":\"PanTool\"},{\"attributes\":{\"fill_alpha\":{\"value\":0.1},\"fill_color\":{\"value\":\"#1f77b4\"},\"line_alpha\":{\"value\":0.1},\"line_color\":{\"value\":\"#1f77b4\"},\"radius\":{\"field\":\"radii\",\"units\":\"data\"},\"x\":{\"field\":\"x\"},\"y\":{\"field\":\"y\"}},\"id\":\"9bc57ff5-3f25-4bb1-bc6e-28d0263c5968\",\"type\":\"Circle\"},{\"attributes\":{\"callback\":null},\"id\":\"ed889e81-6d44-42f6-9daf-078eac64298c\",\"type\":\"DataRange1d\"},{\"attributes\":{},\"id\":\"b7a1084d-e80f-4fbc-8b88-232395786724\",\"type\":\"BasicTicker\"},{\"attributes\":{\"callback\":null},\"id\":\"f96e8be6-f0fd-4f93-b45a-fd7b22504788\",\"type\":\"DataRange1d\"},{\"attributes\":{\"overlay\":{\"id\":\"d5c9e3d4-d781-4513-b324-adcd120525ee\",\"type\":\"BoxAnnotation\"},\"plot\":{\"id\":\"e0bf807f-9fa1-46da-9df6-47eb38821095\",\"subtype\":\"Figure\",\"type\":\"Plot\"}},\"id\":\"7db58bb2-4f5b-4dcd-97e4-56c7d1b0f07c\",\"type\":\"BoxZoomTool\"},{\"attributes\":{\"plot\":{\"id\":\"e0bf807f-9fa1-46da-9df6-47eb38821095\",\"subtype\":\"Figure\",\"type\":\"Plot\"}},\"id\":\"a8099375-b041-4c5c-9cc1-11a6c4d24324\",\"type\":\"WheelZoomTool\"},{\"attributes\":{\"plot\":{\"id\":\"e0bf807f-9fa1-46da-9df6-47eb38821095\",\"subtype\":\"Figure\",\"type\":\"Plot\"}},\"id\":\"99e8037f-db6c-45b7-b0e4-7c3abedd7005\",\"type\":\"ResetTool\"},{\"attributes\":{\"plot\":{\"id\":\"e0bf807f-9fa1-46da-9df6-47eb38821095\",\"subtype\":\"Figure\",\"type\":\"Plot\"}},\"id\":\"4837eaca-6021-43ec-8a12-c43cf26487c0\",\"type\":\"SaveTool\"},{\"attributes\":{},\"id\":\"0684068c-13ed-40dd-b501-616012971b30\",\"type\":\"BasicTicker\"},{\"attributes\":{\"below\":[{\"id\":\"09fae417-aebe-4d7c-8346-8a68224c7d72\",\"type\":\"LinearAxis\"}],\"left\":[{\"id\":\"378f66a6-aa32-419e-9fcb-76e862a27f1f\",\"type\":\"LinearAxis\"}],\"renderers\":[{\"id\":\"09fae417-aebe-4d7c-8346-8a68224c7d72\",\"type\":\"LinearAxis\"},{\"id\":\"7b0c4336-9c99-4182-a657-0f33e51f44d9\",\"type\":\"Grid\"},{\"id\":\"378f66a6-aa32-419e-9fcb-76e862a27f1f\",\"type\":\"LinearAxis\"},{\"id\":\"d5abedd1-a1ce-444a-9848-e8d34275e905\",\"type\":\"Grid\"},{\"id\":\"d5c9e3d4-d781-4513-b324-adcd120525ee\",\"type\":\"BoxAnnotation\"},{\"id\":\"c6502273-b00b-4a07-9538-42b5788c2586\",\"type\":\"PolyAnnotation\"},{\"id\":\"fc4b902e-d3c7-4fbd-9426-b93978986077\",\"type\":\"GlyphRenderer\"}],\"title\":{\"id\":\"157283c4-465b-4abe-8a66-b3046f217d9f\",\"type\":\"Title\"},\"tool_events\":{\"id\":\"9c478c8c-e659-4493-8942-df082f044af7\",\"type\":\"ToolEvents\"},\"toolbar\":{\"id\":\"2033c7d7-4b48-4eff-8bbc-d902ee4f4f92\",\"type\":\"Toolbar\"},\"x_range\":{\"id\":\"f96e8be6-f0fd-4f93-b45a-fd7b22504788\",\"type\":\"DataRange1d\"},\"y_range\":{\"id\":\"ed889e81-6d44-42f6-9daf-078eac64298c\",\"type\":\"DataRange1d\"}},\"id\":\"e0bf807f-9fa1-46da-9df6-47eb38821095\",\"subtype\":\"Figure\",\"type\":\"Plot\"},{\"attributes\":{\"data_source\":{\"id\":\"53d8e2e3-9f34-4b01-8834-3719bf49e650\",\"type\":\"ColumnDataSource\"},\"glyph\":{\"id\":\"a9e63572-f520-4022-8d89-8efcb3a16e6e\",\"type\":\"Circle\"},\"hover_glyph\":null,\"nonselection_glyph\":{\"id\":\"9bc57ff5-3f25-4bb1-bc6e-28d0263c5968\",\"type\":\"Circle\"},\"selection_glyph\":null},\"id\":\"fc4b902e-d3c7-4fbd-9426-b93978986077\",\"type\":\"GlyphRenderer\"},{\"attributes\":{\"plot\":{\"id\":\"e0bf807f-9fa1-46da-9df6-47eb38821095\",\"subtype\":\"Figure\",\"type\":\"Plot\"},\"ticker\":{\"id\":\"0684068c-13ed-40dd-b501-616012971b30\",\"type\":\"BasicTicker\"}},\"id\":\"7b0c4336-9c99-4182-a657-0f33e51f44d9\",\"type\":\"Grid\"},{\"attributes\":{\"active_drag\":\"auto\",\"active_scroll\":\"auto\",\"active_tap\":\"auto\",\"tools\":[{\"id\":\"107cef64-ce0a-40fb-ab09-1be8645145f7\",\"type\":\"HoverTool\"},{\"id\":\"f9d24609-4eb6-4d60-bf40-440b1358b1ba\",\"type\":\"CrosshairTool\"},{\"id\":\"92f4d548-2279-438e-a9e5-53799819f7e2\",\"type\":\"PanTool\"},{\"id\":\"a8099375-b041-4c5c-9cc1-11a6c4d24324\",\"type\":\"WheelZoomTool\"},{\"id\":\"7db58bb2-4f5b-4dcd-97e4-56c7d1b0f07c\",\"type\":\"BoxZoomTool\"},{\"id\":\"99e8037f-db6c-45b7-b0e4-7c3abedd7005\",\"type\":\"ResetTool\"},{\"id\":\"4837eaca-6021-43ec-8a12-c43cf26487c0\",\"type\":\"SaveTool\"},{\"id\":\"267bcce2-70df-49d1-9653-e0acc6c915ae\",\"type\":\"LassoSelectTool\"}]},\"id\":\"2033c7d7-4b48-4eff-8bbc-d902ee4f4f92\",\"type\":\"Toolbar\"},{\"attributes\":{\"plot\":null,\"text\":\"\"},\"id\":\"157283c4-465b-4abe-8a66-b3046f217d9f\",\"type\":\"Title\"},{\"attributes\":{},\"id\":\"9c478c8c-e659-4493-8942-df082f044af7\",\"type\":\"ToolEvents\"},{\"attributes\":{\"fill_alpha\":{\"value\":0.6},\"fill_color\":{\"value\":\"#1f77b4\"},\"line_color\":{\"value\":null},\"radius\":{\"field\":\"radii\",\"units\":\"data\"},\"x\":{\"field\":\"x\"},\"y\":{\"field\":\"y\"}},\"id\":\"a9e63572-f520-4022-8d89-8efcb3a16e6e\",\"type\":\"Circle\"},{\"attributes\":{\"formatter\":{\"id\":\"b3ac01d4-46ed-4ba4-bde6-9851920a4112\",\"type\":\"BasicTickFormatter\"},\"plot\":{\"id\":\"e0bf807f-9fa1-46da-9df6-47eb38821095\",\"subtype\":\"Figure\",\"type\":\"Plot\"},\"ticker\":{\"id\":\"0684068c-13ed-40dd-b501-616012971b30\",\"type\":\"BasicTicker\"}},\"id\":\"09fae417-aebe-4d7c-8346-8a68224c7d72\",\"type\":\"LinearAxis\"},{\"attributes\":{},\"id\":\"6a7ae9db-b430-4bc1-8aed-82b5cbb703a9\",\"type\":\"BasicTickFormatter\"},{\"attributes\":{\"callback\":null,\"overlay\":{\"id\":\"c6502273-b00b-4a07-9538-42b5788c2586\",\"type\":\"PolyAnnotation\"},\"plot\":{\"id\":\"e0bf807f-9fa1-46da-9df6-47eb38821095\",\"subtype\":\"Figure\",\"type\":\"Plot\"}},\"id\":\"267bcce2-70df-49d1-9653-e0acc6c915ae\",\"type\":\"LassoSelectTool\"},{\"attributes\":{\"formatter\":{\"id\":\"6a7ae9db-b430-4bc1-8aed-82b5cbb703a9\",\"type\":\"BasicTickFormatter\"},\"plot\":{\"id\":\"e0bf807f-9fa1-46da-9df6-47eb38821095\",\"subtype\":\"Figure\",\"type\":\"Plot\"},\"ticker\":{\"id\":\"b7a1084d-e80f-4fbc-8b88-232395786724\",\"type\":\"BasicTicker\"}},\"id\":\"378f66a6-aa32-419e-9fcb-76e862a27f1f\",\"type\":\"LinearAxis\"}],\"root_ids\":[\"e0bf807f-9fa1-46da-9df6-47eb38821095\"]},\"title\":\"Bokeh Application\",\"version\":\"0.12.4\"}};\n",
       "            var render_items = [{\"docid\":\"fae95b4e-d1c1-4a5f-b304-200aab2589f0\",\"elementid\":\"ba3632e3-2408-4c80-9d1d-30cd9cd1e4ee\",\"modelid\":\"e0bf807f-9fa1-46da-9df6-47eb38821095\"}];\n",
       "            \n",
       "            Bokeh.embed.embed_items(docs_json, render_items);\n",
       "          };\n",
       "          if (document.readyState != \"loading\") fn();\n",
       "          else document.addEventListener(\"DOMContentLoaded\", fn);\n",
       "        })();\n",
       "      },\n",
       "      function(Bokeh) {\n",
       "      }\n",
       "    ];\n",
       "  \n",
       "    function run_inline_js() {\n",
       "      \n",
       "      if ((window.Bokeh !== undefined) || (force === true)) {\n",
       "        for (var i = 0; i < inline_js.length; i++) {\n",
       "          inline_js[i](window.Bokeh);\n",
       "        }if (force === true) {\n",
       "          display_loaded();\n",
       "        }} else if (Date.now() < window._bokeh_timeout) {\n",
       "        setTimeout(run_inline_js, 100);\n",
       "      } else if (!window._bokeh_failed_load) {\n",
       "        console.log(\"Bokeh: BokehJS failed to load within specified timeout.\");\n",
       "        window._bokeh_failed_load = true;\n",
       "      } else if (force !== true) {\n",
       "        var cell = $(document.getElementById(\"ba3632e3-2408-4c80-9d1d-30cd9cd1e4ee\")).parents('.cell').data().cell;\n",
       "        cell.output_area.append_execute_result(NB_LOAD_WARNING)\n",
       "      }\n",
       "  \n",
       "    }\n",
       "  \n",
       "    if (window._bokeh_is_loading === 0) {\n",
       "      console.log(\"Bokeh: BokehJS loaded, going straight to plotting\");\n",
       "      run_inline_js();\n",
       "    } else {\n",
       "      load_libs(js_urls, function() {\n",
       "        console.log(\"Bokeh: BokehJS plotting callback run at\", now());\n",
       "        run_inline_js();\n",
       "      });\n",
       "    }\n",
       "  }(this));\n",
       "</script>"
      ]
     },
     "metadata": {},
     "output_type": "display_data"
    }
   ],
   "source": [
    "from bokeh.models import HoverTool\n",
    "from bokeh.plotting import figure, show, ColumnDataSource\n",
    "import math\n",
    "\n",
    "x = tsne.embedding_[:, 0]\n",
    "y = tsne.embedding_[:, 1]\n",
    "author_names = [model.id2author[a] for a in authors]\n",
    "\n",
    "# Radius of each point corresponds to the number of documents attributed to that author.\n",
    "scale = 3\n",
    "author_sizes = [len(model.author2doc[a]) for a in author_names]\n",
    "radii = [math.sqrt(size) * scale for size in author_sizes]\n",
    "\n",
    "source = ColumnDataSource(\n",
    "        data=dict(\n",
    "            x=x,\n",
    "            y=y,\n",
    "            author_names=author_names,\n",
    "            author_sizes=author_sizes,\n",
    "            radii=radii,\n",
    "        )\n",
    "    )\n",
    "\n",
    "# Add author names and sizes to mouse-over info.\n",
    "hover = HoverTool(\n",
    "        tooltips=[\n",
    "        (\"author\", \"@author_names\"),\n",
    "        (\"size\", \"@author_sizes\"),\n",
    "        ]\n",
    "    )\n",
    "\n",
    "p = figure(tools=[hover, 'crosshair,pan,wheel_zoom,box_zoom,reset,save,lasso_select'])\n",
    "p.scatter('x', 'y', radius='radii', source=source, fill_alpha=0.6, line_color=None)\n",
    "show(p)"
   ]
  },
  {
   "cell_type": "code",
   "execution_count": 23,
   "metadata": {
    "collapsed": false
   },
   "outputs": [],
   "source": [
    "from gensim.similarities import MatrixSimilarity\n",
    "\n",
    "# Generate a similarity object for the transformed corpus.\n",
    "index = MatrixSimilarity(model[list(model.id2author.values())])\n",
    "\n",
    "# Get similarities to some author.\n",
    "author_name = 'Philippe Rivière'\n",
    "sims = index[model[author_name]]"
   ]
  },
  {
   "cell_type": "code",
   "execution_count": 24,
   "metadata": {
    "collapsed": false
   },
   "outputs": [],
   "source": [
    "# Make a function that returns similarities based on the Hellinger distance.\n",
    "\n",
    "from gensim import matutils\n",
    "import pandas as pd\n",
    "\n",
    "# Make a list of all the author-topic distributions.\n",
    "author_vecs = [model.get_author_topics(author) for author in model.id2author.values()]\n",
    "\n",
    "def similarity(vec1, vec2):\n",
    "    '''Get similarity between two vectors'''\n",
    "    dist = matutils.hellinger(matutils.sparse2full(vec1, model.num_topics), \\\n",
    "                              matutils.sparse2full(vec2, model.num_topics))\n",
    "    sim = 1.0 / (1.0 + dist)\n",
    "    return sim\n",
    "\n",
    "def get_sims(vec):\n",
    "    '''Get similarity of vector to all authors.'''\n",
    "    sims = [similarity(vec, vec2) for vec2 in author_vecs]\n",
    "    return sims\n",
    "\n",
    "def get_table(name, top_n=10, smallest_author=1):\n",
    "    '''\n",
    "    Get table with similarities, author names, and author sizes.\n",
    "    Return `top_n` authors as a dataframe.\n",
    "    \n",
    "    '''\n",
    "    \n",
    "    # Get similarities.\n",
    "    sims = get_sims(model.get_author_topics(name))\n",
    "\n",
    "    # Arrange author names, similarities, and author sizes in a list of tuples.\n",
    "    table = []\n",
    "    for elem in enumerate(sims):\n",
    "        author_name = model.id2author[elem[0]]\n",
    "        sim = elem[1]\n",
    "        author_size = len(model.author2doc[author_name])\n",
    "        if author_size >= smallest_author:\n",
    "            table.append((author_name, sim, author_size))\n",
    "            \n",
    "    # Make dataframe and retrieve top authors.\n",
    "    df = pd.DataFrame(table, columns=['Author', 'Score', 'Size'])\n",
    "    df = df.sort_values('Score', ascending=False)[:top_n]\n",
    "    \n",
    "    return df"
   ]
  },
  {
   "cell_type": "code",
   "execution_count": 31,
   "metadata": {
    "collapsed": false
   },
   "outputs": [
    {
     "data": {
      "text/html": [
       "<div>\n",
       "<table border=\"1\" class=\"dataframe\">\n",
       "  <thead>\n",
       "    <tr style=\"text-align: right;\">\n",
       "      <th></th>\n",
       "      <th>Author</th>\n",
       "      <th>Score</th>\n",
       "      <th>Size</th>\n",
       "    </tr>\n",
       "  </thead>\n",
       "  <tbody>\n",
       "    <tr>\n",
       "      <th>68</th>\n",
       "      <td>Philippe Rivière</td>\n",
       "      <td>1.000000</td>\n",
       "      <td>32</td>\n",
       "    </tr>\n",
       "    <tr>\n",
       "      <th>67</th>\n",
       "      <td>Philippe Rekacewicz</td>\n",
       "      <td>0.999776</td>\n",
       "      <td>183</td>\n",
       "    </tr>\n",
       "    <tr>\n",
       "      <th>56</th>\n",
       "      <td>Nicky Hager</td>\n",
       "      <td>0.874938</td>\n",
       "      <td>1</td>\n",
       "    </tr>\n",
       "    <tr>\n",
       "      <th>60</th>\n",
       "      <td>Oskar Rekacewicz</td>\n",
       "      <td>0.868715</td>\n",
       "      <td>4</td>\n",
       "    </tr>\n",
       "    <tr>\n",
       "      <th>26</th>\n",
       "      <td>Dominique Vidal</td>\n",
       "      <td>0.834706</td>\n",
       "      <td>1</td>\n",
       "    </tr>\n",
       "    <tr>\n",
       "      <th>14</th>\n",
       "      <td>Bruno Bergot</td>\n",
       "      <td>0.776194</td>\n",
       "      <td>1</td>\n",
       "    </tr>\n",
       "    <tr>\n",
       "      <th>28</th>\n",
       "      <td>Elizabeth Rajasingh</td>\n",
       "      <td>0.767883</td>\n",
       "      <td>2</td>\n",
       "    </tr>\n",
       "    <tr>\n",
       "      <th>55</th>\n",
       "      <td>Mycle Schneider</td>\n",
       "      <td>0.723519</td>\n",
       "      <td>1</td>\n",
       "    </tr>\n",
       "    <tr>\n",
       "      <th>40</th>\n",
       "      <td>Julie Hazemann</td>\n",
       "      <td>0.723519</td>\n",
       "      <td>1</td>\n",
       "    </tr>\n",
       "    <tr>\n",
       "      <th>24</th>\n",
       "      <td>Dan McCarey</td>\n",
       "      <td>0.702200</td>\n",
       "      <td>3</td>\n",
       "    </tr>\n",
       "  </tbody>\n",
       "</table>\n",
       "</div>"
      ],
      "text/plain": [
       "                 Author     Score  Size\n",
       "68     Philippe Rivière  1.000000    32\n",
       "67  Philippe Rekacewicz  0.999776   183\n",
       "56          Nicky Hager  0.874938     1\n",
       "60     Oskar Rekacewicz  0.868715     4\n",
       "26      Dominique Vidal  0.834706     1\n",
       "14         Bruno Bergot  0.776194     1\n",
       "28  Elizabeth Rajasingh  0.767883     2\n",
       "55      Mycle Schneider  0.723519     1\n",
       "40       Julie Hazemann  0.723519     1\n",
       "24          Dan McCarey  0.702200     3"
      ]
     },
     "execution_count": 31,
     "metadata": {},
     "output_type": "execute_result"
    }
   ],
   "source": [
    "get_table('Philippe Rivière')"
   ]
  },
  {
   "cell_type": "code",
   "execution_count": 26,
   "metadata": {
    "collapsed": false
   },
   "outputs": [
    {
     "data": {
      "text/plain": [
       "[(0,\n",
       "  '0.009*\"soviétique\" + 0.008*\"maritime\" + 0.008*\"film\" + 0.007*\"asie\" + 0.007*\"internet\" + 0.007*\"méditerranée\" + 0.006*\"code\" + 0.006*\"atlas\" + 0.006*\"réseau\" + 0.006*\"del\"'),\n",
       " (1,\n",
       "  '0.061*\"terres\" + 0.015*\"agricoles\" + 0.015*\"armes\" + 0.012*\"militaires\" + 0.011*\"loi\" + 0.010*\"communautés\" + 0.010*\"militaire\" + 0.009*\"conflit\" + 0.008*\"processus\" + 0.008*\"membres\"'),\n",
       " (2,\n",
       "  '0.045*\"e\" + 0.037*\"del\" + 0.030*\"mur\" + 0.022*\"réfugiés\" + 0.018*\"la_police\" + 0.018*\"turquie\" + 0.014*\"cristina\" + 0.014*\"homme\" + 0.014*\"suisse\" + 0.014*\"cristina_del\"'),\n",
       " (3,\n",
       "  '0.012*\"société\" + 0.011*\"îles\" + 0.010*\"dimension\" + 0.010*\"quartiers\" + 0.010*\"capitale\" + 0.009*\"la_société\" + 0.009*\"géographe\" + 0.009*\"relation\" + 0.008*\"paysage\" + 0.008*\"distance\"'),\n",
       " (4,\n",
       "  '0.038*\"code\" + 0.032*\"port\" + 0.015*\"camp\" + 0.014*\"york\" + 0.014*\"new_york\" + 0.012*\"mon\" + 0.012*\"suis\" + 0.011*\"world\" + 0.011*\"je_suis\" + 0.010*\"retour\"')]"
      ]
     },
     "execution_count": 26,
     "metadata": {},
     "output_type": "execute_result"
    }
   ],
   "source": [
    "model.show_topics()"
   ]
  },
  {
   "cell_type": "code",
   "execution_count": 32,
   "metadata": {
    "collapsed": false
   },
   "outputs": [
    {
     "name": "stdout",
     "output_type": "stream",
     "text": [
      "soviétique, maritime, film, asie, internet, méditerranée, code, atlas\n",
      "terres, agricoles, armes, militaires, loi, communautés, militaire, conflit\n",
      "e, del, mur, réfugiés, la_police, turquie, cristina, homme\n",
      "société, îles, dimension, quartiers, capitale, la_société, géographe, relation\n",
      "code, port, camp, york, new_york, mon, suis, world\n"
     ]
    }
   ],
   "source": [
    "for topic in model.show_topics():\n",
    "    print (', ' . join(\"{}\".format(k) for k,_ in model.show_topic(topic[0])[:8]))"
   ]
  },
  {
   "cell_type": "code",
   "execution_count": null,
   "metadata": {
    "collapsed": true
   },
   "outputs": [],
   "source": []
  },
  {
   "cell_type": "code",
   "execution_count": null,
   "metadata": {
    "collapsed": true
   },
   "outputs": [],
   "source": []
  },
  {
   "cell_type": "code",
   "execution_count": null,
   "metadata": {
    "collapsed": true
   },
   "outputs": [],
   "source": []
  },
  {
   "cell_type": "code",
   "execution_count": null,
   "metadata": {
    "collapsed": true
   },
   "outputs": [],
   "source": []
  }
 ],
 "metadata": {
  "kernelspec": {
   "display_name": "Python 3",
   "language": "python",
   "name": "python3"
  },
  "language_info": {
   "codemirror_mode": {
    "name": "ipython",
    "version": 3
   },
   "file_extension": ".py",
   "mimetype": "text/x-python",
   "name": "python",
   "nbconvert_exporter": "python",
   "pygments_lexer": "ipython3",
   "version": "3.5.2"
  }
 },
 "nbformat": 4,
 "nbformat_minor": 2
}
